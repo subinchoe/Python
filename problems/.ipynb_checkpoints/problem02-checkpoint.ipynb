{
 "cells": [
  {
   "cell_type": "markdown",
   "metadata": {},
   "source": [
    "# 모든코인 상승장? 하락장?\n",
    "> 최고가와 최저가의 차이를 변동폭으로 정의할 때 (시가 + 변동폭)이 최고가 보다 높을 경우 \"상승장\", 그렇지 않은 경우 \"하락장\" 문자열을 출력하라.\n",
    "\n",
    "\n",
    "|Key Name|Description|\n",
    "|------|---|\n",
    "|opeing_price|최근 24시간 내 시작 거래금액|\n",
    "|closing_price|최근 24시간 내 마지막 거래금액|\n",
    "|min_price|최근 24시간 내 최저 거래금액|\n",
    "|max_price|최근 24시간 내 최고 거래금액|"
   ]
  },
  {
   "cell_type": "code",
   "execution_count": 1,
   "metadata": {},
   "outputs": [
    {
     "name": "stdout",
     "output_type": "stream",
     "text": [
      "dict_values([{'opening_price': '11389000', 'closing_price': '11682000', 'min_price': '10870000', 'max_price': '12000000', 'average_price': '11571805.3478', 'units_traded': '15145.7660612', 'volume_1day': '15145.7660612', 'volume_7day': '91794.83166249', 'buy_price': '11682000', 'sell_price': '11692000', '24H_fluctate': '293000', '24H_fluctate_rate': '2.57'}, {'opening_price': '244300', 'closing_price': '257200', 'min_price': '231100', 'max_price': '265700', 'average_price': '252512.7558', 'units_traded': '104685.73377102', 'volume_1day': '104685.73377102', 'volume_7day': '684779.708809595976061373', 'buy_price': '257200', 'sell_price': '257600', '24H_fluctate': '12900', '24H_fluctate_rate': '5.28'}, {'opening_price': '141200', 'closing_price': '145000', 'min_price': '125000', 'max_price': '149900', 'average_price': '145154.5143', 'units_traded': '3639123.92935007', 'volume_1day': '3639123.92935007', 'volume_7day': '11942116.69385344', 'buy_price': '144900', 'sell_price': '145000', '24H_fluctate': '3800', '24H_fluctate_rate': '2.69'}, {'opening_price': '96000', 'closing_price': '110100', 'min_price': '93050', 'max_price': '114200', 'average_price': '107373.6401', 'units_traded': '65849.19443627', 'volume_1day': '65849.19443627', 'volume_7day': '202374.24208971', 'buy_price': '110100', 'sell_price': '110500', '24H_fluctate': '14100', '24H_fluctate_rate': '14.68'}, {'opening_price': '6565', 'closing_price': '6880', 'min_price': '6290', 'max_price': '7120', 'average_price': '6818.9342', 'units_traded': '112890.92191679', 'volume_1day': '112890.92191679', 'volume_7day': '912919.732115827355280542', 'buy_price': '6835', 'sell_price': '6855', '24H_fluctate': '315', '24H_fluctate_rate': '4.79'}, {'opening_price': '361', 'closing_price': '374', 'min_price': '355', 'max_price': '387', 'average_price': '373.2947', 'units_traded': '88456935.17945367', 'volume_1day': '88456935.17945367', 'volume_7day': '616738134.96567315', 'buy_price': '373', 'sell_price': '374', '24H_fluctate': '13', '24H_fluctate_rate': '3.60'}, {'opening_price': '347500', 'closing_price': '354900', 'min_price': '330600', 'max_price': '369500', 'average_price': '352692.7433', 'units_traded': '42340.00607096', 'volume_1day': '42340.00607096', 'volume_7day': '244283.87643651', 'buy_price': '354300', 'sell_price': '355000', '24H_fluctate': '7400', '24H_fluctate_rate': '2.12'}, {'opening_price': '88750', 'closing_price': '91200', 'min_price': '86000', 'max_price': '94900', 'average_price': '91073.7774', 'units_traded': '1394460.85393284', 'volume_1day': '1394460.85393284', 'volume_7day': '23244002.566217147169', 'buy_price': '90800', 'sell_price': '91200', '24H_fluctate': '2450', '24H_fluctate_rate': '2.76'}, {'opening_price': '97250', 'closing_price': '100000', 'min_price': '83100', 'max_price': '102700', 'average_price': '97199.385', 'units_traded': '2080.43129756', 'volume_1day': '2080.43129756', 'volume_7day': '17106.36026404', 'buy_price': '98600', 'sell_price': '99900', '24H_fluctate': '2750', '24H_fluctate_rate': '2.82'}, {'opening_price': '3347', 'closing_price': '3578', 'min_price': '3200', 'max_price': '3700', 'average_price': '3515.2043', 'units_traded': '514934.95343652', 'volume_1day': '514934.95343652', 'volume_7day': '3649169.57997812', 'buy_price': '3569', 'sell_price': '3577', '24H_fluctate': '231', '24H_fluctate_rate': '6.90'}, {'opening_price': '28120', 'closing_price': '29100', 'min_price': '27020', 'max_price': '29750', 'average_price': '28472.7956', 'units_traded': '23607.10720217', 'volume_1day': '23607.10720217', 'volume_7day': '181128.3708911', 'buy_price': '29100', 'sell_price': '29320', '24H_fluctate': '980', '24H_fluctate_rate': '3.48'}, {'opening_price': '4459', 'closing_price': '4637', 'min_price': '4261', 'max_price': '4919', 'average_price': '4644.2802', 'units_traded': '3580644.89683785', 'volume_1day': '3580644.89683785', 'volume_7day': '20211691.03733055', 'buy_price': '4633', 'sell_price': '4644', '24H_fluctate': '178', '24H_fluctate_rate': '3.99'}, {'opening_price': '318', 'closing_price': '318', 'min_price': '305', 'max_price': '328', 'average_price': '317.4311', 'units_traded': '174465.03632982', 'volume_1day': '174465.03632982', 'volume_7day': '2905002.276242788261104603', 'buy_price': '318', 'sell_price': '322', '24H_fluctate': '0', '24H_fluctate_rate': '0.00'}, {'opening_price': '6.96', 'closing_price': '7.28', 'min_price': '6.84', 'max_price': '7.48', 'average_price': '7.1971', 'units_traded': '7283615.78412724', 'volume_1day': '7283615.78412724', 'volume_7day': '100116519.633695600537330284', 'buy_price': '7.27', 'sell_price': '7.28', '24H_fluctate': '0.32', '24H_fluctate_rate': '4.59'}, {'opening_price': '25.6', 'closing_price': '27.6', 'min_price': '24.3', 'max_price': '28', 'average_price': '26.6262', 'units_traded': '88349581.707454', 'volume_1day': '88349581.707454', 'volume_7day': '597841469.89974793', 'buy_price': '27.6', 'sell_price': '27.8', '24H_fluctate': '2', '24H_fluctate_rate': '7.81'}, {'opening_price': '137', 'closing_price': '142', 'min_price': '128', 'max_price': '147', 'average_price': '139.2989', 'units_traded': '893501.49354315', 'volume_1day': '893501.49354315', 'volume_7day': '8631924.215256549486773198', 'buy_price': '142', 'sell_price': '143', '24H_fluctate': '5', '24H_fluctate_rate': '3.64'}, {'opening_price': '41.5', 'closing_price': '42', 'min_price': '39.1', 'max_price': '43.6', 'average_price': '41.5606', 'units_traded': '3213376.02726661', 'volume_1day': '3213376.02726661', 'volume_7day': '18640249.315017138454171411', 'buy_price': '42', 'sell_price': '42.8', '24H_fluctate': '0.5', '24H_fluctate_rate': '1.20'}, {'opening_price': '5550', 'closing_price': '5435', 'min_price': '5145', 'max_price': '5655', 'average_price': '5437.452', 'units_traded': '36845.98566036', 'volume_1day': '36845.98566036', 'volume_7day': '265226.63052305', 'buy_price': '5435', 'sell_price': '5470', '24H_fluctate': '-115', '24H_fluctate_rate': '-2.07'}, {'opening_price': '1650', 'closing_price': '1726', 'min_price': '1569', 'max_price': '1789', 'average_price': '1695.5297', 'units_traded': '441590.19304465', 'volume_1day': '441590.19304465', 'volume_7day': '3551554.870591495549442209', 'buy_price': '1726', 'sell_price': '1736', '24H_fluctate': '76', '24H_fluctate_rate': '4.60'}, {'opening_price': '194', 'closing_price': '208', 'min_price': '182', 'max_price': '212', 'average_price': '198.4993', 'units_traded': '1252756.71259202', 'volume_1day': '1252756.71259202', 'volume_7day': '5910883.874866771033671669', 'buy_price': '206', 'sell_price': '208', '24H_fluctate': '14', '24H_fluctate_rate': '7.21'}, {'opening_price': '66.9', 'closing_price': '71.7', 'min_price': '64', 'max_price': '73.8', 'average_price': '70.5494', 'units_traded': '1061235.21190177', 'volume_1day': '1061235.21190177', 'volume_7day': '4514150.699076144334374588', 'buy_price': '69.7', 'sell_price': '71.7', '24H_fluctate': '4.8', '24H_fluctate_rate': '7.17'}, {'opening_price': '16.2', 'closing_price': '16.1', 'min_price': '15.6', 'max_price': '16.6', 'average_price': '16.2393', 'units_traded': '5548988.48751846', 'volume_1day': '5548988.48751846', 'volume_7day': '56222238.210033637973', 'buy_price': '16.1', 'sell_price': '16.3', '24H_fluctate': '-0.09', '24H_fluctate_rate': '-0.61'}, {'opening_price': '134', 'closing_price': '138', 'min_price': '126', 'max_price': '142', 'average_price': '136.5539', 'units_traded': '2558727.7908222', 'volume_1day': '2558727.7908222', 'volume_7day': '48320326.20176263', 'buy_price': '138', 'sell_price': '139', '24H_fluctate': '4', '24H_fluctate_rate': '2.98'}, {'opening_price': '253', 'closing_price': '253', 'min_price': '244', 'max_price': '260', 'average_price': '252.4145', 'units_traded': '186636.63286923', 'volume_1day': '186636.63286923', 'volume_7day': '2038417.756587495722300872', 'buy_price': '249', 'sell_price': '252', '24H_fluctate': '0', '24H_fluctate_rate': '0.00'}, {'opening_price': '56.5', 'closing_price': '57.5', 'min_price': '52.1', 'max_price': '61.9', 'average_price': '57.2529', 'units_traded': '1818137.05992121', 'volume_1day': '1818137.05992121', 'volume_7day': '13544406.99790189', 'buy_price': '57.5', 'sell_price': '58.2', '24H_fluctate': '1', '24H_fluctate_rate': '1.76'}, {'opening_price': '94.4', 'closing_price': '90.9', 'min_price': '84.1', 'max_price': '94.4', 'average_price': '89.7158', 'units_traded': '656228.72886888', 'volume_1day': '656228.72886888', 'volume_7day': '6100511.26930009', 'buy_price': '88', 'sell_price': '90.9', '24H_fluctate': '-3.5', '24H_fluctate_rate': '-3.70'}, {'opening_price': '68.9', 'closing_price': '67.7', 'min_price': '62.6', 'max_price': '70.7', 'average_price': '67.0902', 'units_traded': '503169.84709527', 'volume_1day': '503169.84709527', 'volume_7day': '4699106.748155756639682473', 'buy_price': '67', 'sell_price': '67.7', '24H_fluctate': '-1.2', '24H_fluctate_rate': '-1.74'}, {'opening_price': '24.6', 'closing_price': '27', 'min_price': '23.9', 'max_price': '27.5', 'average_price': '26.2034', 'units_traded': '3220859.76700797', 'volume_1day': '3220859.76700797', 'volume_7day': '23782229.61528783', 'buy_price': '26.4', 'sell_price': '27', '24H_fluctate': '2.4', '24H_fluctate_rate': '9.75'}, {'opening_price': '349', 'closing_price': '355', 'min_price': '335', 'max_price': '377', 'average_price': '355.6462', 'units_traded': '315465.92324879', 'volume_1day': '315465.92324879', 'volume_7day': '11589264.8506496', 'buy_price': '355', 'sell_price': '356', '24H_fluctate': '6', '24H_fluctate_rate': '1.71'}, {'opening_price': '1248', 'closing_price': '1321', 'min_price': '1216', 'max_price': '1385', 'average_price': '1304.223', 'units_traded': '109123.94080802', 'volume_1day': '109123.94080802', 'volume_7day': '1381563.68359569', 'buy_price': '1321', 'sell_price': '1332', '24H_fluctate': '73', '24H_fluctate_rate': '5.84'}, {'opening_price': '262', 'closing_price': '274', 'min_price': '248', 'max_price': '286', 'average_price': '269.5058', 'units_traded': '663384.77178894', 'volume_1day': '663384.77178894', 'volume_7day': '5186711.170635800028183815', 'buy_price': '272', 'sell_price': '276', '24H_fluctate': '12', '24H_fluctate_rate': '4.58'}, {'opening_price': '17110', 'closing_price': '17730', 'min_price': '16800', 'max_price': '18690', 'average_price': '17696.528', 'units_traded': '15429.82395879', 'volume_1day': '15429.82395879', 'volume_7day': '170393.736554089302527285', 'buy_price': '17730', 'sell_price': '17940', '24H_fluctate': '620', '24H_fluctate_rate': '3.62'}, {'opening_price': '456', 'closing_price': '472', 'min_price': '418', 'max_price': '480', 'average_price': '452.8804', 'units_traded': '267816.23360463', 'volume_1day': '267816.23360463', 'volume_7day': '2296939.574695828470194495', 'buy_price': '468', 'sell_price': '472', '24H_fluctate': '16', '24H_fluctate_rate': '3.50'}, {'opening_price': '86.3', 'closing_price': '90.5', 'min_price': '83.3', 'max_price': '95.1', 'average_price': '89.3008', 'units_traded': '854086.01373702', 'volume_1day': '854086.01373702', 'volume_7day': '11164726.26406579', 'buy_price': '89.3', 'sell_price': '89.9', '24H_fluctate': '4.2', '24H_fluctate_rate': '4.86'}, {'opening_price': '22', 'closing_price': '23.1', 'min_price': '21.6', 'max_price': '24', 'average_price': '22.9563', 'units_traded': '8274366.54674664', 'volume_1day': '8274366.54674664', 'volume_7day': '53251646.512527844961998328', 'buy_price': '23', 'sell_price': '23.4', '24H_fluctate': '1.1', '24H_fluctate_rate': '5.00'}, {'opening_price': '85.2', 'closing_price': '89.4', 'min_price': '78', 'max_price': '94', 'average_price': '88.0479', 'units_traded': '10723854.4924895', 'volume_1day': '10723854.4924895', 'volume_7day': '63437042.83804693', 'buy_price': '89.4', 'sell_price': '89.5', '24H_fluctate': '4.2', '24H_fluctate_rate': '4.92'}, {'opening_price': '2850', 'closing_price': '2920', 'min_price': '2636', 'max_price': '3319', 'average_price': '2986.4836', 'units_traded': '99102.58662285', 'volume_1day': '99102.58662285', 'volume_7day': '1185188.68647199', 'buy_price': '2914', 'sell_price': '2920', '24H_fluctate': '70', '24H_fluctate_rate': '2.45'}, {'opening_price': '408', 'closing_price': '418', 'min_price': '384', 'max_price': '433', 'average_price': '412.9915', 'units_traded': '553664.77800104', 'volume_1day': '553664.77800104', 'volume_7day': '7026805.844531043295515405', 'buy_price': '414', 'sell_price': '418', '24H_fluctate': '10', '24H_fluctate_rate': '2.45'}, {'opening_price': '51.2', 'closing_price': '53.5', 'min_price': '48.5', 'max_price': '57.6', 'average_price': '53.4172', 'units_traded': '16626525.95385151', 'volume_1day': '16626525.95385151', 'volume_7day': '149037421.261467040375825031', 'buy_price': '53.1', 'sell_price': '53.5', '24H_fluctate': '2.3', '24H_fluctate_rate': '4.49'}, {'opening_price': '111', 'closing_price': '120', 'min_price': '100', 'max_price': '134', 'average_price': '121.6498', 'units_traded': '7712048.50530013', 'volume_1day': '7712048.50530013', 'volume_7day': '16561253.050817495586643986', 'buy_price': '119', 'sell_price': '120', '24H_fluctate': '9', '24H_fluctate_rate': '8.10'}, {'opening_price': '2302', 'closing_price': '2369', 'min_price': '2139', 'max_price': '2440', 'average_price': '2314.9579', 'units_traded': '159538.70942724', 'volume_1day': '159538.70942724', 'volume_7day': '4354704.258810636825332386', 'buy_price': '2339', 'sell_price': '2363', '24H_fluctate': '67', '24H_fluctate_rate': '2.91'}, {'opening_price': '303', 'closing_price': '313', 'min_price': '287', 'max_price': '324', 'average_price': '310.0582', 'units_traded': '1564415.13540007', 'volume_1day': '1564415.13540007', 'volume_7day': '14398331.180634060519017151', 'buy_price': '313', 'sell_price': '316', '24H_fluctate': '10', '24H_fluctate_rate': '3.30'}, {'opening_price': '465', 'closing_price': '490', 'min_price': '457', 'max_price': '500', 'average_price': '478.9511', 'units_traded': '209961.96614885', 'volume_1day': '209961.96614885', 'volume_7day': '4507244.791499278908226431', 'buy_price': '485', 'sell_price': '490', '24H_fluctate': '25', '24H_fluctate_rate': '5.37'}, {'opening_price': '261', 'closing_price': '283', 'min_price': '255', 'max_price': '320', 'average_price': '288.7736', 'units_traded': '2483148.00633511', 'volume_1day': '2483148.00633511', 'volume_7day': '13377241.761726002990532439', 'buy_price': '283', 'sell_price': '286', '24H_fluctate': '22', '24H_fluctate_rate': '8.42'}, {'opening_price': '38', 'closing_price': '39.9', 'min_price': '37.5', 'max_price': '41', 'average_price': '39.0121', 'units_traded': '2724918.32156862', 'volume_1day': '2724918.32156862', 'volume_7day': '25951669.990914855561349759', 'buy_price': '39.3', 'sell_price': '39.8', '24H_fluctate': '1.9', '24H_fluctate_rate': '5.00'}, {'opening_price': '11.6', 'closing_price': '12', 'min_price': '11', 'max_price': '12.4', 'average_price': '11.779', 'units_traded': '44067831.5907956', 'volume_1day': '44067831.5907956', 'volume_7day': '283295021.066934314', 'buy_price': '11.9', 'sell_price': '12', '24H_fluctate': '0.4', '24H_fluctate_rate': '3.44'}, {'opening_price': '2103', 'closing_price': '2280', 'min_price': '2020', 'max_price': '2354', 'average_price': '2228.7234', 'units_traded': '146880.0371711', 'volume_1day': '146880.0371711', 'volume_7day': '1658555.44082489', 'buy_price': '2263', 'sell_price': '2280', '24H_fluctate': '177', '24H_fluctate_rate': '8.41'}, {'opening_price': '3990', 'closing_price': '4480', 'min_price': '3600', 'max_price': '4687', 'average_price': '4283.0661', 'units_traded': '494584.46501481', 'volume_1day': '494584.46501481', 'volume_7day': '5141769.578766101887183811', 'buy_price': '4480', 'sell_price': '4486', '24H_fluctate': '490', '24H_fluctate_rate': '12.28'}, {'opening_price': '99', 'closing_price': '102', 'min_price': '93.3', 'max_price': '109', 'average_price': '100.4396', 'units_traded': '16423930.63744404', 'volume_1day': '16423930.63744404', 'volume_7day': '98534095.253380088368906056', 'buy_price': '101', 'sell_price': '102', '24H_fluctate': '3', '24H_fluctate_rate': '3.03'}, {'opening_price': '132', 'closing_price': '138', 'min_price': '127', 'max_price': '143', 'average_price': '136.9856', 'units_traded': '1651156.58998792', 'volume_1day': '1651156.58998792', 'volume_7day': '22612796.919605065187544188', 'buy_price': '138', 'sell_price': '139', '24H_fluctate': '6', '24H_fluctate_rate': '4.54'}, {'opening_price': '181', 'closing_price': '182', 'min_price': '167', 'max_price': '190', 'average_price': '180.283', 'units_traded': '991836.80480988', 'volume_1day': '991836.80480988', 'volume_7day': '3151006.26863496', 'buy_price': '180', 'sell_price': '182', '24H_fluctate': '1', '24H_fluctate_rate': '0.55'}, {'opening_price': '881', 'closing_price': '899', 'min_price': '824', 'max_price': '952', 'average_price': '876.1416', 'units_traded': '161319.46866185', 'volume_1day': '161319.46866185', 'volume_7day': '1640474.117539456644363619', 'buy_price': '892', 'sell_price': '900', '24H_fluctate': '18', '24H_fluctate_rate': '2.04'}, {'opening_price': '71.9', 'closing_price': '72.5', 'min_price': '70.1', 'max_price': '80', 'average_price': '74.6992', 'units_traded': '323675.02321798', 'volume_1day': '323675.02321798', 'volume_7day': '3367375.035526046204308547', 'buy_price': '72.4', 'sell_price': '72.5', '24H_fluctate': '0.59', '24H_fluctate_rate': '0.83'}, {'opening_price': '1662', 'closing_price': '1794', 'min_price': '1500', 'max_price': '1899', 'average_price': '1718.1431', 'units_traded': '77738.74573238', 'volume_1day': '77738.74573238', 'volume_7day': '390390.83188711', 'buy_price': '1750', 'sell_price': '1777', '24H_fluctate': '132', '24H_fluctate_rate': '7.94'}, {'opening_price': '385', 'closing_price': '398', 'min_price': '365', 'max_price': '407', 'average_price': '388.2382', 'units_traded': '318122.07727294', 'volume_1day': '318122.07727294', 'volume_7day': '8491295.6007015767', 'buy_price': '398', 'sell_price': '399', '24H_fluctate': '13', '24H_fluctate_rate': '3.37'}, {'opening_price': '1911', 'closing_price': '1969', 'min_price': '1875', 'max_price': '2093', 'average_price': '1982.9224', 'units_traded': '120095.67120634', 'volume_1day': '120095.67120634', 'volume_7day': '1578178.76990272', 'buy_price': '1969', 'sell_price': '1999', '24H_fluctate': '58', '24H_fluctate_rate': '3.03'}, {'opening_price': '20.2', 'closing_price': '21.8', 'min_price': '19.9', 'max_price': '22.1', 'average_price': '21.187', 'units_traded': '10333965.86101629', 'volume_1day': '10333965.86101629', 'volume_7day': '52470120.320955980265253377', 'buy_price': '21.6', 'sell_price': '21.8', '24H_fluctate': '1.6', '24H_fluctate_rate': '7.92'}, {'opening_price': '104', 'closing_price': '108', 'min_price': '101', 'max_price': '113', 'average_price': '106.217', 'units_traded': '4426489.84399064', 'volume_1day': '4426489.84399064', 'volume_7day': '25102150.88468991', 'buy_price': '106', 'sell_price': '107', '24H_fluctate': '4', '24H_fluctate_rate': '3.84'}, {'opening_price': '3', 'closing_price': '3.02', 'min_price': '2.82', 'max_price': '3.33', 'average_price': '3.051', 'units_traded': '13733766.84570656', 'volume_1day': '13733766.84570656', 'volume_7day': '94928063.961141758205620556', 'buy_price': '3.02', 'sell_price': '3.03', '24H_fluctate': '0.02', '24H_fluctate_rate': '0.66'}, {'opening_price': '138100', 'closing_price': '152200', 'min_price': '131600', 'max_price': '158600', 'average_price': '145844.4764', 'units_traded': '73328.35365319', 'volume_1day': '73328.35365319', 'volume_7day': '405600.70273503', 'buy_price': '152200', 'sell_price': '152900', '24H_fluctate': '14100', '24H_fluctate_rate': '10.20'}, {'opening_price': '2', 'closing_price': '2.06', 'min_price': '1.96', 'max_price': '2.07', 'average_price': '2.0226', 'units_traded': '25627572.48684078', 'volume_1day': '25627572.48684078', 'volume_7day': '277694465.43077501137199149', 'buy_price': '2.05', 'sell_price': '2.06', '24H_fluctate': '0.06', '24H_fluctate_rate': '3.00'}, {'opening_price': '253', 'closing_price': '269', 'min_price': '241', 'max_price': '272', 'average_price': '260.2021', 'units_traded': '1120147.99559374', 'volume_1day': '1120147.99559374', 'volume_7day': '6910305.773246211472496451', 'buy_price': '267', 'sell_price': '269', '24H_fluctate': '16', '24H_fluctate_rate': '6.32'}, {'opening_price': '13.5', 'closing_price': '15.7', 'min_price': '12.7', 'max_price': '17', 'average_price': '15.0688', 'units_traded': '52508329.8897648', 'volume_1day': '52508329.8897648', 'volume_7day': '162648506.922172577195916298', 'buy_price': '15.7', 'sell_price': '15.9', '24H_fluctate': '2.2', '24H_fluctate_rate': '16.29'}, {'opening_price': '12.8', 'closing_price': '13', 'min_price': '12.5', 'max_price': '13.7', 'average_price': '13.0867', 'units_traded': '1146335.73968864', 'volume_1day': '1146335.73968864', 'volume_7day': '16514167.75918482', 'buy_price': '13', 'sell_price': '13.6', '24H_fluctate': '0.2', '24H_fluctate_rate': '1.56'}, {'opening_price': '10.4', 'closing_price': '10.7', 'min_price': '9.9', 'max_price': '11.4', 'average_price': '10.7015', 'units_traded': '5099847.9264405', 'volume_1day': '5099847.9264405', 'volume_7day': '32000972.192286372727019199', 'buy_price': '10.6', 'sell_price': '10.7', '24H_fluctate': '0.3', '24H_fluctate_rate': '2.88'}, {'opening_price': '61.9', 'closing_price': '64.5', 'min_price': '58.1', 'max_price': '66.4', 'average_price': '62.8866', 'units_traded': '5796548.88073679', 'volume_1day': '5796548.88073679', 'volume_7day': '51723159.160628211672374596', 'buy_price': '63.9', 'sell_price': '64.5', '24H_fluctate': '2.6', '24H_fluctate_rate': '4.20'}, {'opening_price': '3450', 'closing_price': '3588', 'min_price': '3206', 'max_price': '3770', 'average_price': '3556.4434', 'units_traded': '264898.07793126', 'volume_1day': '264898.07793126', 'volume_7day': '4344624.10138481', 'buy_price': '3565', 'sell_price': '3584', '24H_fluctate': '138', '24H_fluctate_rate': '4.00'}, {'opening_price': '0.05', 'closing_price': '0.05', 'min_price': '0.04', 'max_price': '0.05', 'average_price': '0.0447', 'units_traded': '903446529.9317', 'volume_1day': '903446529.9317', 'volume_7day': '15088525062.445766667166666674', 'buy_price': '0.04', 'sell_price': '0.05', '24H_fluctate': '0', '24H_fluctate_rate': '0.00'}, {'opening_price': '0.59', 'closing_price': '0.61', 'min_price': '0.54', 'max_price': '0.62', 'average_price': '0.5854', 'units_traded': '219261381.56582429', 'volume_1day': '219261381.56582429', 'volume_7day': '2193606112.011074395456873504', 'buy_price': '0.6', 'sell_price': '0.61', '24H_fluctate': '0.02', '24H_fluctate_rate': '3.38'}, {'opening_price': '255', 'closing_price': '273', 'min_price': '246', 'max_price': '284', 'average_price': '266.1432', 'units_traded': '2187596.75147035', 'volume_1day': '2187596.75147035', 'volume_7day': '18979703.02460232367950146', 'buy_price': '271', 'sell_price': '273', '24H_fluctate': '18', '24H_fluctate_rate': '7.05'}, {'opening_price': '468', 'closing_price': '490', 'min_price': '445', 'max_price': '500', 'average_price': '471.4715', 'units_traded': '150802.86285121', 'volume_1day': '150802.86285121', 'volume_7day': '1719320.46680942', 'buy_price': '476', 'sell_price': '490', '24H_fluctate': '22', '24H_fluctate_rate': '4.70'}, {'opening_price': '1.62', 'closing_price': '1.68', 'min_price': '1.5', 'max_price': '1.75', 'average_price': '1.6461', 'units_traded': '50242030.57096817', 'volume_1day': '50242030.57096817', 'volume_7day': '303503069.513960615574153864', 'buy_price': '1.66', 'sell_price': '1.68', '24H_fluctate': '0.06', '24H_fluctate_rate': '3.70'}, {'opening_price': '1702', 'closing_price': '1753', 'min_price': '1511', 'max_price': '1851', 'average_price': '1739.0011', 'units_traded': '130741.60615236', 'volume_1day': '130741.60615236', 'volume_7day': '581986.70204401', 'buy_price': '1723', 'sell_price': '1753', '24H_fluctate': '51', '24H_fluctate_rate': '2.99'}, {'opening_price': '0.15', 'closing_price': '0.16', 'min_price': '0.14', 'max_price': '0.16', 'average_price': '0.1529', 'units_traded': '661669337.613', 'volume_1day': '661669337.613', 'volume_7day': '3284040058.11217903', 'buy_price': '0.15', 'sell_price': '0.16', '24H_fluctate': '0.01', '24H_fluctate_rate': '6.66'}, {'opening_price': '6.05', 'closing_price': '5.92', 'min_price': '5.65', 'max_price': '6.21', 'average_price': '6.0164', 'units_traded': '79888835.89860414', 'volume_1day': '79888835.89860414', 'volume_7day': '358763266.993186877406561591', 'buy_price': '5.86', 'sell_price': '5.91', '24H_fluctate': '-0.13', '24H_fluctate_rate': '-2.14'}, {'opening_price': '1722', 'closing_price': '1748', 'min_price': '1689', 'max_price': '1800', 'average_price': '1747.3385', 'units_traded': '137053.98742615', 'volume_1day': '137053.98742615', 'volume_7day': '1644280.86758189', 'buy_price': '1744', 'sell_price': '1748', '24H_fluctate': '26', '24H_fluctate_rate': '1.50'}, {'opening_price': '1.19', 'closing_price': '1.25', 'min_price': '1.12', 'max_price': '1.29', 'average_price': '1.2255', 'units_traded': '306524897.96873486', 'volume_1day': '306524897.96873486', 'volume_7day': '1783077442.60066279', 'buy_price': '1.24', 'sell_price': '1.26', '24H_fluctate': '0.06', '24H_fluctate_rate': '5.04'}, {'opening_price': '30.6', 'closing_price': '29.5', 'min_price': '27', 'max_price': '32.3', 'average_price': '29.2849', 'units_traded': '16524718.99884345', 'volume_1day': '16524718.99884345', 'volume_7day': '58733534.75473092', 'buy_price': '29.5', 'sell_price': '29.8', '24H_fluctate': '-1.1', '24H_fluctate_rate': '-3.59'}, {'opening_price': '0.68', 'closing_price': '0.69', 'min_price': '0.63', 'max_price': '0.72', 'average_price': '0.6817', 'units_traded': '770343082.20792131', 'volume_1day': '770343082.20792131', 'volume_7day': '3708415125.055234288796371987', 'buy_price': '0.69', 'sell_price': '0.7', '24H_fluctate': '0', '24H_fluctate_rate': '1.47'}, {'opening_price': '1.5', 'closing_price': '1.51', 'min_price': '1.38', 'max_price': '1.54', 'average_price': '1.475', 'units_traded': '56831147.88535127', 'volume_1day': '56831147.88535127', 'volume_7day': '266586843.626265004282373078', 'buy_price': '1.5', 'sell_price': '1.51', '24H_fluctate': '0.01', '24H_fluctate_rate': '0.66'}, {'opening_price': '1770', 'closing_price': '1846', 'min_price': '1678', 'max_price': '2017', 'average_price': '1869.0278', 'units_traded': '83523.0312838', 'volume_1day': '83523.0312838', 'volume_7day': '1361900.22153024', 'buy_price': '1845', 'sell_price': '1846', '24H_fluctate': '76', '24H_fluctate_rate': '4.29'}, {'opening_price': '25.3', 'closing_price': '27.1', 'min_price': '24.5', 'max_price': '28', 'average_price': '26.3307', 'units_traded': '13786734.29117834', 'volume_1day': '13786734.29117834', 'volume_7day': '124594165.348855835013007848', 'buy_price': '26.8', 'sell_price': '27.1', '24H_fluctate': '1.8', '24H_fluctate_rate': '7.11'}, {'opening_price': '2222', 'closing_price': '2312', 'min_price': '2100', 'max_price': '2345', 'average_price': '2248.5712', 'units_traded': '185327.64711512', 'volume_1day': '185327.64711512', 'volume_7day': '926669.256936855822824259', 'buy_price': '2290', 'sell_price': '2312', '24H_fluctate': '90', '24H_fluctate_rate': '4.05'}, {'opening_price': '11.8', 'closing_price': '12.5', 'min_price': '11.3', 'max_price': '12.5', 'average_price': '11.8732', 'units_traded': '71794126.2162683', 'volume_1day': '71794126.2162683', 'volume_7day': '737070507.926676702993868535', 'buy_price': '12.4', 'sell_price': '12.5', '24H_fluctate': '0.7', '24H_fluctate_rate': '5.93'}, {'opening_price': '10.3', 'closing_price': '10.5', 'min_price': '9.75', 'max_price': '10.9', 'average_price': '10.3379', 'units_traded': '22939057.88976667', 'volume_1day': '22939057.88976667', 'volume_7day': '609800609.445252819062021246', 'buy_price': '10.4', 'sell_price': '10.5', '24H_fluctate': '0.2', '24H_fluctate_rate': '1.94'}, {'opening_price': '63.9', 'closing_price': '63', 'min_price': '58.2', 'max_price': '63.9', 'average_price': '61.3902', 'units_traded': '764507.76500058', 'volume_1day': '764507.76500058', 'volume_7day': '16976395.414634789162430984', 'buy_price': '62.6', 'sell_price': '63.4', '24H_fluctate': '-0.9', '24H_fluctate_rate': '-1.40'}, {'opening_price': '8.62', 'closing_price': '8.95', 'min_price': '8', 'max_price': '9.4', 'average_price': '8.7166', 'units_traded': '62355450.42296231', 'volume_1day': '62355450.42296231', 'volume_7day': '1069038646.4535136', 'buy_price': '8.87', 'sell_price': '8.99', '24H_fluctate': '0.33', '24H_fluctate_rate': '3.82'}, {'opening_price': '24.4', 'closing_price': '25.1', 'min_price': '22.6', 'max_price': '27.1', 'average_price': '24.3898', 'units_traded': '26211310.67728553', 'volume_1day': '26211310.67728553', 'volume_7day': '93283900.540472127289648274', 'buy_price': '25.1', 'sell_price': '25.4', '24H_fluctate': '0.7', '24H_fluctate_rate': '2.86'}, {'opening_price': '249', 'closing_price': '247', 'min_price': '230', 'max_price': '260', 'average_price': '245.7214', 'units_traded': '356150488.40855325', 'volume_1day': '356150488.40855325', 'volume_7day': '369500492.982901438955194698', 'buy_price': '247', 'sell_price': '248', '24H_fluctate': '-2', '24H_fluctate_rate': '-0.80'}, '1563443314661'])\n"
     ]
    }
   ],
   "source": [
    "import requests\n",
    "url = \"https://api.bithumb.com/public/ticker/all\"\n",
    "data = requests.get(url).json()['data']\n",
    "print(data.values())\n",
    "# start_price = int(data['opening_price'])\n",
    "# maximum = int(data['max_price'])\n",
    "# minimum = int(data['min_price'])\n",
    "\n",
    "# coin_range = maximum - minimum\n",
    "# print(coin_range)\n",
    "\n",
    "# if maximum < start_price + coin_range:\n",
    "#     print(\"상승장\")\n",
    "# else :\n",
    "#     print(\"하락장\")\n",
    "\n",
    "\n",
    "\n",
    "# import requests\n",
    "\n",
    "# url = \"https://api.bithumb.com/public/ticker/btc\"\n",
    "# data = requests.get(url).json()['data']\n",
    "# print(data)\n",
    "# start_price = int(data['opening_price'])\n",
    "# maximum = int(data['max_price'])\n",
    "# minimum = int(data['min_price'])\n",
    "\n",
    "# coin_range = maximum - minimum\n",
    "# print(coin_range)\n",
    "\n",
    "# if maximum < start_price + coin_range:\n",
    "#     print(\"상승장\")\n",
    "# else :\n",
    "#     print(\"하락장\")"
   ]
  },
  {
   "cell_type": "markdown",
   "metadata": {},
   "source": [
    "# 평균점수\n",
    "> 다음 딕셔너리에서 평균 점수를 출력하라\n"
   ]
  },
  {
   "cell_type": "code",
   "execution_count": 2,
   "metadata": {},
   "outputs": [
    {
     "name": "stdout",
     "output_type": "stream",
     "text": [
      "dict_values([80, 78, 95, 80])\n",
      "83.25\n"
     ]
    }
   ],
   "source": [
    "student = {'python':80, 'algorithm':78, 'django':95, 'flask':80}\n",
    "# 나의 풀이\n",
    "print(student.values())\n",
    "total = sum(student.values())\n",
    "average = total / 4\n",
    "print(float(average))\n",
    "\n",
    "# 선생님 풀이\n",
    "# result = 0\n",
    "# for score in student.values():\n",
    "#     result += score\n",
    "# print(result/len(student))"
   ]
  },
  {
   "cell_type": "markdown",
   "metadata": {},
   "source": [
    "# 혈액형\n",
    "> 학생들의 혈액형(A,B,O,AB)에 대한 데이터가 리스트에 들어있다. 각 혈액형이 몇명인지 딕셔너리를 만들어 출력하라"
   ]
  },
  {
   "cell_type": "code",
   "execution_count": 3,
   "metadata": {},
   "outputs": [
    {
     "ename": "SyntaxError",
     "evalue": "invalid syntax (<ipython-input-3-c5777d7803a7>, line 7)",
     "output_type": "error",
     "traceback": [
      "\u001b[1;36m  File \u001b[1;32m\"<ipython-input-3-c5777d7803a7>\"\u001b[1;36m, line \u001b[1;32m7\u001b[0m\n\u001b[1;33m    print(dict{f'{blood}는 {num}명'})\u001b[0m\n\u001b[1;37m              ^\u001b[0m\n\u001b[1;31mSyntaxError\u001b[0m\u001b[1;31m:\u001b[0m invalid syntax\n"
     ]
    }
   ],
   "source": [
    "blood_type = ['A','A','B','O','A','B','A','AB','AB','O','A','O','AB','O']\n",
    "# 나의 풀이 ,, 결국 못 풂\n",
    "print(blood_type)\n",
    "for i in blood_type:\n",
    "    if i == 'A':\n",
    "        print(blood_type.count)\n",
    "print(dict{f'{blood}는 {num}명'})\n",
    "\n",
    "# 선생님 풀이\n",
    "# blood_type_dict = {'A': 1,}\n",
    "# for blood in blood_type:\n",
    "#     if blood in blood_type_dict:\n",
    "#         blood_type_dict[blood] += 1\n",
    "#     else:\n",
    "#         blood_type_dict[blood] = 1\n",
    "# print(blood_type_dict)"
   ]
  },
  {
   "cell_type": "markdown",
   "metadata": {},
   "source": [
    "# UBD\n",
    "> movies는 영화제목이 key로 누적관객수가 value인 딕셔너리이다. \n",
    ">\n",
    "> 자전차왕 엄복동의 누적관객수는 172212명이고 172212명을 1UBD라고 할때 80UBD를 넘지 못하는 영화를 출력하라."
   ]
  },
  {
   "cell_type": "code",
   "execution_count": 4,
   "metadata": {},
   "outputs": [
    {
     "name": "stdout",
     "output_type": "stream",
     "text": [
      "dict_items([('7번방의선물', 12811206), ('괴물', 13019740), ('국제시장', 14257115), ('극한직업', 16261018), ('도둑들', 12983330), ('명량', 17613682), ('베테랑', 13414009), ('신과함께-죄와벌', 14410754), ('아바타', 13624328), ('어벤져스:엔드게임', 13901423)])\n",
      "7번방의선물\n",
      "괴물\n",
      "도둑들\n",
      "베테랑\n",
      "아바타\n"
     ]
    }
   ],
   "source": [
    "movies = {\n",
    "    \"7번방의선물\":12811206,\n",
    "    \"괴물\":13019740,\n",
    "    \"국제시장\":14257115,\n",
    "    \"극한직업\":16261018,\n",
    "    \"도둑들\":12983330,\n",
    "    \"명량\":17613682,\n",
    "    \"베테랑\":13414009,\n",
    "    \"신과함께-죄와벌\":14410754,\n",
    "    \"아바타\":13624328,\n",
    "    \"어벤져스:엔드게임\":13901423,\n",
    "}\n",
    "\n",
    "# 나의 풀이\n",
    "print(movies.items())\n",
    "\n",
    "UBD = 172212\n",
    "\n",
    "for key, value in movies.items():\n",
    "    if value < 80 * UBD:      \n",
    "        print(key)\n",
    "        \n",
    "# for key in movies.keys():\n",
    "#     if movies[key] < 80 * UBD:      \n",
    "#         print(key)\n",
    "\n",
    "# movies.get('7번방의선물')\n",
    "# movies['7번방의선물']\n",
    "\n",
    "# 선생님 풀이\n",
    "# ubd = 172212 \n",
    "\n",
    "# for name, count in movies.items():\n",
    "#     if 80 > count/ubd:\n",
    "#         print(name)\n",
    "\n"
   ]
  }
 ],
 "metadata": {
  "kernelspec": {
   "display_name": "Python 3",
   "language": "python",
   "name": "python3"
  },
  "language_info": {
   "codemirror_mode": {
    "name": "ipython",
    "version": 3
   },
   "file_extension": ".py",
   "mimetype": "text/x-python",
   "name": "python",
   "nbconvert_exporter": "python",
   "pygments_lexer": "ipython3",
   "version": "3.7.3"
  }
 },
 "nbformat": 4,
 "nbformat_minor": 2
}
