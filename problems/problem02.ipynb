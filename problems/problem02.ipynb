{
 "cells": [
  {
   "cell_type": "markdown",
   "metadata": {},
   "source": [
    "# 모든코인 상승장? 하락장?\n",
    "> 최고가와 최저가의 차이를 변동폭으로 정의할 때 (시가 + 변동폭)이 최고가 보다 높을 경우 \"상승장\", 그렇지 않은 경우 \"하락장\" 문자열을 출력하라.\n",
    "\n",
    "\n",
    "|Key Name|Description|\n",
    "|------|---|\n",
    "|opeing_price|최근 24시간 내 시작 거래금액|\n",
    "|closing_price|최근 24시간 내 마지막 거래금액|\n",
    "|min_price|최근 24시간 내 최저 거래금액|\n",
    "|max_price|최근 24시간 내 최고 거래금액|"
   ]
  },
  {
   "cell_type": "code",
   "execution_count": null,
   "metadata": {},
   "outputs": [],
   "source": [
    "import requests\n",
    "url = \"https://api.bithumb.com/public/ticker/all\"\n",
    "data = requests.get(url).json()['data']\n",
    "print(data.values())\n",
    "# start_price = int(data['opening_price'])\n",
    "# maximum = int(data['max_price'])\n",
    "# minimum = int(data['min_price'])\n",
    "\n",
    "# coin_range = maximum - minimum\n",
    "# print(coin_range)\n",
    "\n",
    "# if maximum < start_price + coin_range:\n",
    "#     print(\"상승장\")\n",
    "# else :\n",
    "#     print(\"하락장\")\n",
    "\n",
    "\n",
    "\n",
    "# import requests\n",
    "\n",
    "# url = \"https://api.bithumb.com/public/ticker/btc\"\n",
    "# data = requests.get(url).json()['data']\n",
    "# print(data)\n",
    "# start_price = int(data['opening_price'])\n",
    "# maximum = int(data['max_price'])\n",
    "# minimum = int(data['min_price'])\n",
    "\n",
    "# coin_range = maximum - minimum\n",
    "# print(coin_range)\n",
    "\n",
    "# if maximum < start_price + coin_range:\n",
    "#     print(\"상승장\")\n",
    "# else :\n",
    "#     print(\"하락장\")"
   ]
  },
  {
   "cell_type": "markdown",
   "metadata": {},
   "source": [
    "# 평균점수\n",
    "> 다음 딕셔너리에서 평균 점수를 출력하라\n"
   ]
  },
  {
   "cell_type": "code",
   "execution_count": null,
   "metadata": {},
   "outputs": [],
   "source": [
    "student = {'python':80, 'algorithm':78, 'django':95, 'flask':80}\n",
    "# 나의 풀이\n",
    "print(student.values())\n",
    "total = sum(student.values())\n",
    "average = total / 4\n",
    "print(float(average))\n",
    "\n",
    "# 선생님 풀이\n",
    "# result = 0\n",
    "# for score in student.values():\n",
    "#     result += score\n",
    "# print(result/len(student))"
   ]
  },
  {
   "cell_type": "markdown",
   "metadata": {},
   "source": [
    "# 혈액형\n",
    "> 학생들의 혈액형(A,B,O,AB)에 대한 데이터가 리스트에 들어있다. 각 혈액형이 몇명인지 딕셔너리를 만들어 출력하라"
   ]
  },
  {
   "cell_type": "code",
   "execution_count": null,
   "metadata": {},
   "outputs": [],
   "source": [
    "blood_type = ['A','A','B','O','A','B','A','AB','AB','O','A','O','AB','O']\n",
    "# 나의 풀이 ,, 결국 못 풂\n",
    "print(blood_type)\n",
    "for i in blood_type:\n",
    "    if i == 'A':\n",
    "        print(blood_type.count)\n",
    "print(dict{f'{blood}는 {num}명'})\n",
    "\n",
    "# 선생님 풀이\n",
    "# blood_type_dict = {'A': 1,}\n",
    "# for blood in blood_type:\n",
    "#     if blood in blood_type_dict:\n",
    "#         blood_type_dict[blood] += 1\n",
    "#     else:\n",
    "#         blood_type_dict[blood] = 1\n",
    "# print(blood_type_dict)"
   ]
  },
  {
   "cell_type": "markdown",
   "metadata": {},
   "source": [
    "# UBD\n",
    "> movies는 영화제목이 key로 누적관객수가 value인 딕셔너리이다. \n",
    ">\n",
    "> 자전차왕 엄복동의 누적관객수는 172212명이고 172212명을 1UBD라고 할때 80UBD를 넘지 못하는 영화를 출력하라."
   ]
  },
  {
   "cell_type": "code",
   "execution_count": null,
   "metadata": {},
   "outputs": [],
   "source": [
    "movies = {\n",
    "    \"7번방의선물\":12811206,\n",
    "    \"괴물\":13019740,\n",
    "    \"국제시장\":14257115,\n",
    "    \"극한직업\":16261018,\n",
    "    \"도둑들\":12983330,\n",
    "    \"명량\":17613682,\n",
    "    \"베테랑\":13414009,\n",
    "    \"신과함께-죄와벌\":14410754,\n",
    "    \"아바타\":13624328,\n",
    "    \"어벤져스:엔드게임\":13901423,\n",
    "}\n",
    "\n",
    "# 나의 풀이\n",
    "print(movies.items())\n",
    "\n",
    "UBD = 172212\n",
    "\n",
    "for key, value in movies.items():\n",
    "    if value < 80 * UBD:      \n",
    "        print(key)\n",
    "        \n",
    "# for key in movies.keys():\n",
    "#     if movies[key] < 80 * UBD:      \n",
    "#         print(key)\n",
    "\n",
    "# movies.get('7번방의선물')\n",
    "# movies['7번방의선물']\n",
    "\n",
    "# 선생님 풀이\n",
    "# ubd = 172212 \n",
    "\n",
    "# for name, count in movies.items():\n",
    "#     if 80 > count/ubd:\n",
    "#         print(name)\n",
    "\n"
   ]
  }
 ],
 "metadata": {
  "kernelspec": {
   "display_name": "Python 3",
   "language": "python",
   "name": "python3"
  },
  "language_info": {
   "codemirror_mode": {
    "name": "ipython",
    "version": 3
   },
   "file_extension": ".py",
   "mimetype": "text/x-python",
   "name": "python",
   "nbconvert_exporter": "python",
   "pygments_lexer": "ipython3",
   "version": "3.7.3"
  }
 },
 "nbformat": 4,
 "nbformat_minor": 2
}
