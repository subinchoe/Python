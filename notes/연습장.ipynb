{
 "cells": [
  {
   "cell_type": "code",
   "execution_count": 1,
   "metadata": {},
   "outputs": [
    {
     "name": "stdout",
     "output_type": "stream",
     "text": [
      "5\n",
      "-1\n",
      "6\n",
      "0으로는 나눌 수 없습니다.\n"
     ]
    }
   ],
   "source": [
    "# 05 workshop\n",
    "import calc\n",
    "\n",
    "print(calc.plus(2, 3))\n",
    "print(calc.minus(2, 3))\n",
    "print(calc.multiplication(2, 3))\n",
    "print(calc.division(5, 0))"
   ]
  },
  {
   "cell_type": "code",
   "execution_count": 2,
   "metadata": {},
   "outputs": [],
   "source": [
    "class Circle:\n",
    "    pi = 3.14\n",
    "    x = 0\n",
    "    y = 0\n",
    "    r = 0\n",
    "    \n",
    "    def __init__(self, r, x, y):\n",
    "        self.r = r\n",
    "        self.x = x\n",
    "        self.y = y\n",
    "        \n",
    "    def area(self):\n",
    "        return self.pi * self.r * self.r\n",
    "    \n",
    "    def circumference(self):\n",
    "        return 2 * self.pi * self.r\n",
    "    \n",
    "    def center(self):\n",
    "        return (self.x, self.y)"
   ]
  },
  {
   "cell_type": "code",
   "execution_count": 15,
   "metadata": {},
   "outputs": [
    {
     "name": "stdout",
     "output_type": "stream",
     "text": [
      "28.259999999999998\n",
      "28.259999999999998\n",
      "3\n",
      "2\n",
      "4\n",
      "18.84\n",
      "(2, 4)\n"
     ]
    }
   ],
   "source": [
    "# Circle.r = 3      이건 Circle 밑에 있는 값에 억지로 끼워넣는 것ㅠ\n",
    "# print(Circle.r)\n",
    "# Circle.x = 2\n",
    "# print(Circle.x)\n",
    "# Circle.y = 4\n",
    "# print(Circle.y)\n",
    "# print(Circle.pi)\n",
    "\n",
    "r1 = Circle(3, 2, 4)\n",
    "print(Circle.area(r1)) # 이 방법 보다는 밑의 방법이 더 좋음\n",
    "print(r1.area())\n",
    "print(r1.r)\n",
    "print(r1.x)\n",
    "print(r1.y)\n",
    "print(r1.circumference())\n",
    "print(r1.center())\n",
    "# print(Circle.area())"
   ]
  }
 ],
 "metadata": {
  "kernelspec": {
   "display_name": "Python 3",
   "language": "python",
   "name": "python3"
  },
  "language_info": {
   "codemirror_mode": {
    "name": "ipython",
    "version": 3
   },
   "file_extension": ".py",
   "mimetype": "text/x-python",
   "name": "python",
   "nbconvert_exporter": "python",
   "pygments_lexer": "ipython3",
   "version": "3.7.3"
  }
 },
 "nbformat": 4,
 "nbformat_minor": 2
}
