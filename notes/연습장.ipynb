{
 "cells": [
  {
   "cell_type": "code",
   "execution_count": 5,
   "metadata": {},
   "outputs": [
    {
     "name": "stdout",
     "output_type": "stream",
     "text": [
      "[1, 3, 5, 7, 9, 11, 13, 15, 17, 19, 21, 23, 25, 27, 29]\n"
     ]
    }
   ],
   "source": [
    "# 홀수 뽑기\n",
    "result = []\n",
    "for i in range(31):\n",
    "    if i % 2 == 1:\n",
    "        result.append(i)\n",
    "        \n",
    "print(result)"
   ]
  },
  {
   "cell_type": "code",
   "execution_count": 7,
   "metadata": {},
   "outputs": [
    {
     "name": "stdout",
     "output_type": "stream",
     "text": [
      "1\n",
      "3\n",
      "5\n",
      "7\n",
      "9\n"
     ]
    }
   ],
   "source": [
    "# 홀수 뽑기\n",
    "# == 1을 넣지 않았지만 True로 보고 참일 때는 홀수이므로 홀수가 출력 됨.\n",
    "for i in range(10):\n",
    "    if i % 2:\n",
    "        print(i)"
   ]
  },
  {
   "cell_type": "code",
   "execution_count": 13,
   "metadata": {},
   "outputs": [
    {
     "name": "stdout",
     "output_type": "stream",
     "text": [
      "False\n"
     ]
    }
   ],
   "source": [
    "# 1, 5, 10 중에서 3이 있니?\n",
    "# 차례차례 넣었을 때 다 3이 아니니까 else로 직행!\n",
    "numbers = [1, 5, 10]\n",
    "\n",
    "for n in numbers:\n",
    "    if n == 3:\n",
    "        print(True)\n",
    "        break\n",
    "else:\n",
    "    print(False)"
   ]
  },
  {
   "cell_type": "code",
   "execution_count": 6,
   "metadata": {},
   "outputs": [
    {
     "ename": "SyntaxError",
     "evalue": "invalid syntax (<ipython-input-6-cbfcf7cf991a>, line 1)",
     "output_type": "error",
     "traceback": [
      "\u001b[1;36m  File \u001b[1;32m\"<ipython-input-6-cbfcf7cf991a>\"\u001b[1;36m, line \u001b[1;32m1\u001b[0m\n\u001b[1;33m    def rectangle(height, width)\u001b[0m\n\u001b[1;37m                                ^\u001b[0m\n\u001b[1;31mSyntaxError\u001b[0m\u001b[1;31m:\u001b[0m invalid syntax\n"
     ]
    }
   ],
   "source": [
    "# 함수를 이용해 연산하기\n",
    "# 왓더 버억-- 함수를 선언했으면 뭐가 있어야 해? 당연히 콜론이지!!!!!!!!!!\n",
    "def rectangle(height, width)\n",
    "    rec = 2 * (height + width)\n",
    "    tangle = height * width\n",
    "    print(f'둘레 : {rec}, 넓이 : {tangle}')\n",
    "\n",
    "rectangle(30, 20)"
   ]
  },
  {
   "cell_type": "code",
   "execution_count": 2,
   "metadata": {},
   "outputs": [
    {
     "data": {
      "text/plain": [
       "5"
      ]
     },
     "execution_count": 2,
     "metadata": {},
     "output_type": "execute_result"
    }
   ],
   "source": [
    "max(1,5)  # 바로 비교해주는 함수"
   ]
  },
  {
   "cell_type": "code",
   "execution_count": 3,
   "metadata": {},
   "outputs": [
    {
     "name": "stdout",
     "output_type": "stream",
     "text": [
      "5가 더 큽니다.\n"
     ]
    }
   ],
   "source": [
    "def my_max(a, b):\n",
    "    if a > b:\n",
    "        print(f'{a}가 더 큽니다.')\n",
    "    else:\n",
    "        print(f'{b}가 더 큽니다.')\n",
    "        \n",
    "my_max(3, 5)"
   ]
  },
  {
   "cell_type": "code",
   "execution_count": 4,
   "metadata": {},
   "outputs": [],
   "source": [
    "# 함수가 return되거나 종료되면, 함수를 호출한 곳으로 돌아간다.\n",
    "# 함수는 모든 객체를 리턴 가능함\n",
    "# 함수 선언할 때 콜론 제발,,,,,,,,,,,,,,,,,,,,,,,,"
   ]
  },
  {
   "cell_type": "code",
   "execution_count": 15,
   "metadata": {},
   "outputs": [
    {
     "data": {
      "text/plain": [
       "[10, 8]"
      ]
     },
     "execution_count": 15,
     "metadata": {},
     "output_type": "execute_result"
    }
   ],
   "source": [
    "def my_list_max(list1, list2):\n",
    "    add1 = list1[0] + list1[1]\n",
    "    add2 = list2[0] + list2[1]\n",
    "    if add1 > add2:\n",
    "        return list1\n",
    "    else:\n",
    "        return list2\n",
    "        \n",
    "my_list_max([10, 8],[5, 9])"
   ]
  },
  {
   "cell_type": "code",
   "execution_count": 16,
   "metadata": {},
   "outputs": [
    {
     "data": {
      "text/plain": [
       "[10, 8]"
      ]
     },
     "execution_count": 16,
     "metadata": {},
     "output_type": "execute_result"
    }
   ],
   "source": [
    "def my_list_max(a, b):\n",
    "    if sum(a) > sum(b):\n",
    "        return a\n",
    "    else:\n",
    "        return b\n",
    "        \n",
    "my_list_max([10, 8],[5, 9])"
   ]
  },
  {
   "cell_type": "code",
   "execution_count": null,
   "metadata": {},
   "outputs": [],
   "source": [
    "# 함수는 인자를 넘겨줄 수 있다. 인수를 위치로 판단한다."
   ]
  },
  {
   "cell_type": "code",
   "execution_count": 27,
   "metadata": {},
   "outputs": [
    {
     "name": "stdout",
     "output_type": "stream",
     "text": [
      "4.5\n",
      "56.52\n"
     ]
    }
   ],
   "source": [
    "def triangle(width, height):    # 이 방법 보다는 바로 return시키는 게 좋겠어!\n",
    "    a = width * height / 2\n",
    "    print(a)\n",
    "\n",
    "    # return width * height / 2 요로코롬\n",
    "triangle(3, 3)\n",
    "\n",
    "\n",
    "def cylinder(r, h):\n",
    "    return r ** 2 * 2 * 3.14\n",
    "\n",
    "print(cylinder(3, 3))"
   ]
  },
  {
   "cell_type": "code",
   "execution_count": 29,
   "metadata": {
    "scrolled": true
   },
   "outputs": [
    {
     "data": {
      "text/plain": [
       "56.52"
      ]
     },
     "execution_count": 29,
     "metadata": {},
     "output_type": "execute_result"
    }
   ],
   "source": [
    "# 1 : 리턴 값이 나온겨 아웃풋으로\n",
    "def cylinder(r, h):\n",
    "    return r ** 2 * 2 * 3.14\n",
    "cylinder(3, 3)"
   ]
  },
  {
   "cell_type": "code",
   "execution_count": 30,
   "metadata": {},
   "outputs": [
    {
     "name": "stdout",
     "output_type": "stream",
     "text": [
      "56.52\n"
     ]
    }
   ],
   "source": [
    "# 2 : 프린트 값만 나온겨, 리턴 값은 없어\n",
    "def cylinder(r, h):\n",
    "    a = r ** 2 * 2 * 3.14\n",
    "    print(a)\n",
    "cylinder(3, 3)"
   ]
  },
  {
   "cell_type": "code",
   "execution_count": 31,
   "metadata": {},
   "outputs": [
    {
     "name": "stdout",
     "output_type": "stream",
     "text": [
      "56.52\n"
     ]
    }
   ],
   "source": [
    "# 3 : 이건 리턴 값이 프린트 된 것\n",
    "def cylinder(r, h):\n",
    "    return r ** 2 * 2 * 3.14\n",
    "print(cylinder(3, 3))"
   ]
  },
  {
   "cell_type": "code",
   "execution_count": 32,
   "metadata": {},
   "outputs": [
    {
     "name": "stdout",
     "output_type": "stream",
     "text": [
      "56.52\n",
      "None\n"
     ]
    }
   ],
   "source": [
    "# 4 : a를 프린트 해서 값이 나왔는데 밑에 있는 프린트는 리턴 값이 없어서 none으로 나온겨\n",
    "def cylinder(r, h):\n",
    "    a = r ** 2 * 2 * 3.14\n",
    "    print(a)\n",
    "print(cylinder(3, 3))"
   ]
  },
  {
   "cell_type": "code",
   "execution_count": 33,
   "metadata": {},
   "outputs": [],
   "source": [
    "# 기본 값 == default, 만약 (a, b)에서 a와 b가 있는데 b를 기본값으로 0이라 설정하게 \n",
    "# 되면 b에 인자 값을 넣지 않았을 때 자동으로 0이라는 값을 주는거지!!!! 유노왓암생\n",
    "# 함수가 호출될 때 인자를 지정하지 않아도 기본 값을 설정할 수 있다."
   ]
  },
  {
   "cell_type": "code",
   "execution_count": 36,
   "metadata": {},
   "outputs": [
    {
     "name": "stdout",
     "output_type": "stream",
     "text": [
      "수빈, 안녕?\n",
      "익명, 안녕?\n"
     ]
    }
   ],
   "source": [
    "def greeting(name = '익명'):\n",
    "    return f'{name}, 안녕?'\n",
    "print(greeting('수빈'))\n",
    "print(greeting())"
   ]
  },
  {
   "cell_type": "code",
   "execution_count": 37,
   "metadata": {},
   "outputs": [],
   "source": [
    "# 기본 매개변수(파라미터) 이후에 기본 값이 없는 매개변수를 사용할 수 없다.\n",
    "# 예를 들면, \n",
    "# def function_name(paramiter1, paramiter2 = 0) (O)\n",
    "# def function_name(paramiter1 = 0, paramiter2) (X)"
   ]
  },
  {
   "cell_type": "code",
   "execution_count": 38,
   "metadata": {},
   "outputs": [
    {
     "ename": "SyntaxError",
     "evalue": "non-default argument follows default argument (<ipython-input-38-5c3e42ee81ad>, line 2)",
     "output_type": "error",
     "traceback": [
      "\u001b[1;36m  File \u001b[1;32m\"<ipython-input-38-5c3e42ee81ad>\"\u001b[1;36m, line \u001b[1;32m2\u001b[0m\n\u001b[1;33m    def greeting(name = '익명', age):\u001b[0m\n\u001b[1;37m                ^\u001b[0m\n\u001b[1;31mSyntaxError\u001b[0m\u001b[1;31m:\u001b[0m non-default argument follows default argument\n"
     ]
    }
   ],
   "source": [
    "# 이렇게 하면 안 돼요!\n",
    "def greeting(name = '익명', age):\n",
    "    print(f'{name}님은 {age}살입니다.')\n",
    "    \n",
    "greeting(50)"
   ]
  },
  {
   "cell_type": "code",
   "execution_count": 39,
   "metadata": {},
   "outputs": [
    {
     "name": "stdout",
     "output_type": "stream",
     "text": [
      "익명님은 50살입니다.\n"
     ]
    }
   ],
   "source": [
    "# 이렇게 하세요!\n",
    "def greeting(age, name = '익명'):\n",
    "    print(f'{name}님은 {age}살입니다.')\n",
    "    \n",
    "greeting(50)"
   ]
  },
  {
   "cell_type": "code",
   "execution_count": null,
   "metadata": {},
   "outputs": [],
   "source": [
    "# 키워드 인자\n",
    "# 위의 매개변수와 마찬가지로 인자를 지정할 때 키워드 인자를 사용하고 위치 인자를 사용할 수 없다.\n",
    "# 이 말은 예를 들면,\n",
    "# function_name(argu1, argu2 = 0) (O)\n",
    "# function_name(argu1 = 0, argu2) (X)"
   ]
  },
  {
   "cell_type": "code",
   "execution_count": 52,
   "metadata": {},
   "outputs": [
    {
     "name": "stdout",
     "output_type": "stream",
     "text": [
      "수빈님은 24살입니다.\n",
      "24님은 수빈살입니다.\n",
      "수빈님은 24살입니다.\n",
      "수빈님은 24살입니다.\n",
      "수빈님은 24살입니다.\n"
     ]
    }
   ],
   "source": [
    "def greeting(age, name = '익명'):\n",
    "    print(f'{name}님은 {age}살입니다.')\n",
    "    \n",
    "greeting(24, '수빈')\n",
    "greeting('수빈', 24) # 요거는 매개변수들의 위치와 인자 위치가 달라서 생기는 것!\n",
    "greeting(name = '수빈', age = 24)\n",
    "greeting(age = 24, name = '수빈')\n",
    "greeting(24, name = '수빈')\n",
    "# greeting(name = '수빈', 24) # 키워드 인자의 자리에 대한 오류\n",
    "# greeting(age = 24, '수빈') # 키워드 인자의 자리에 대한 오류\n",
    "# greeting('수빈', age = 24) # age 값에 너무 많은 인자가 들어갔대,,\n",
    "# 부가 설명 하자면 첫번째 매개변수에는 age가 들어가있어서 인자의 첫번째 값은 age로 들어가게 돼있어.\n",
    "# 근데 두번째 인자에서 age라는 값을 또 할당해주고 있잖니? 그래서 타입에러난겨!!!!"
   ]
  },
  {
   "cell_type": "code",
   "execution_count": 70,
   "metadata": {},
   "outputs": [
    {
     "name": "stdout",
     "output_type": "stream",
     "text": [
      "a_b\n",
      "c*d*e/f\n",
      "안녕하세요~반갑습니다~저의 이름은~최수빈입니다\n"
     ]
    }
   ],
   "source": [
    "# print함수는 ()안에 객체가 들어가며,\n",
    "# sep = '', end = '', file = sys.stdout, flush = False\n",
    "# 이것들은 반드시 키워드 인자로 제공해야 함!\n",
    "# file이랑, flush는 뭐지??????\n",
    "print('a', end = '_')\n",
    "print('b')\n",
    "print('c','d','e', sep = '*', end = '/')\n",
    "print('f')\n",
    "\n",
    "print('안녕하세요', '반갑습니다', '저의 이름은', '최수빈입니다', sep = '~')"
   ]
  },
  {
   "cell_type": "code",
   "execution_count": 86,
   "metadata": {},
   "outputs": [
    {
     "name": "stdout",
     "output_type": "stream",
     "text": [
      "('1', '2', 3, [4, 5], {6, 7}, (8, 9, 10), {'11': '12'}, [13, {17, 18, (15, 16), 14}, 19])\n",
      "1\n",
      "2\n",
      "3\n",
      "[4, 5]\n",
      "{6, 7}\n",
      "(8, 9, 10)\n",
      "{'11': '12'}\n",
      "[13, {17, 18, (15, 16), 14}, 19]\n"
     ]
    }
   ],
   "source": [
    "# 가변 인자 리스트 : print()함수처럼 정해지지 않은 인자를 받으려면 가변 인자를 활용해야한다.\n",
    "# 가변 인자는 tuple 형태임!!! *로 표현\n",
    "# => def func(*args):\n",
    "\n",
    "def func(*args):\n",
    "    print(args)\n",
    "    for i in args:\n",
    "        print(i)\n",
    "    \n",
    "func('1', '2', 3, [4, 5], {6, 7}, (8, 9, 10), {'11' : '12'}, [13, {14, (15, 16), 17, 18},19])"
   ]
  },
  {
   "cell_type": "code",
   "execution_count": 91,
   "metadata": {},
   "outputs": [
    {
     "name": "stdout",
     "output_type": "stream",
     "text": [
      "100\n"
     ]
    }
   ],
   "source": [
    "def my_max(*score):\n",
    "    big = max(score)\n",
    "    return big\n",
    "print(my_max(10, 20, 30, 50, 100))"
   ]
  },
  {
   "cell_type": "code",
   "execution_count": 93,
   "metadata": {},
   "outputs": [
    {
     "name": "stdout",
     "output_type": "stream",
     "text": [
      "(-1, -4)\n"
     ]
    }
   ],
   "source": [
    "def my_max(*args):\n",
    "    big = max(args)\n",
    "    small = min(args)\n",
    "    return big, small\n",
    "print(my_max(-1, -2, -3, -4))"
   ]
  },
  {
   "cell_type": "code",
   "execution_count": 1,
   "metadata": {},
   "outputs": [
    {
     "name": "stdout",
     "output_type": "stream",
     "text": [
      "(-1, -2, -3, -4)\n"
     ]
    },
    {
     "data": {
      "text/plain": [
       "-1"
      ]
     },
     "execution_count": 1,
     "metadata": {},
     "output_type": "execute_result"
    }
   ],
   "source": [
    "def my_max(*args):\n",
    "    print(args) # args는 튜플로!!!!\n",
    "    result = args[0] # sequence는 대괄호로 접근한다.\n",
    "    for i in args:\n",
    "        if result < i: # result 값에는 args[0]이니까 지금 -1이 저장되어있어.\n",
    "            result = i # 근데 -1보다 다 같거나 작으니까 if문을 통과 못하고 else로 빠진거야.\n",
    "        else:\n",
    "            pass\n",
    "    return result # 그래서 result값이 return된거지\n",
    "my_max(-1,-2,-3,-4)"
   ]
  },
  {
   "cell_type": "code",
   "execution_count": 97,
   "metadata": {},
   "outputs": [
    {
     "name": "stdout",
     "output_type": "stream",
     "text": [
      "0 -1\n",
      "1 -2\n",
      "2 -3\n",
      "3 -4\n"
     ]
    },
    {
     "data": {
      "text/plain": [
       "-1"
      ]
     },
     "execution_count": 97,
     "metadata": {},
     "output_type": "execute_result"
    }
   ],
   "source": [
    "def my_max_2(*args):\n",
    "    for idx, value in enumerate(args):\n",
    "        print(idx, value)\n",
    "        if idx == 0:\n",
    "            result = value\n",
    "        else:\n",
    "            if value>result:\n",
    "                result = value\n",
    "    return result\n",
    "my_max_2(-1,-2,-3,-4)\n",
    "\n",
    "\n",
    "# 아하!!!!!!!!! idx가 index였어!!!! 그래서 0번째 1번째 이랬구만!!!!!!!"
   ]
  },
  {
   "cell_type": "code",
   "execution_count": 98,
   "metadata": {},
   "outputs": [
    {
     "name": "stdout",
     "output_type": "stream",
     "text": [
      "{'한국어': '안녕', '영어': 'hi'}\n"
     ]
    }
   ],
   "source": [
    "# 정의되지 않은 키워드 인자 처리하기\n",
    "# 정의되지 않은 인자들은 dict형태로 처리가 됨\n",
    "# **로 표현 됨\n",
    "# 주로 kwargs라는 이름을 사용\n",
    "# **Kwargs를 통해 인자를 받아 처리 가능\n",
    "# def func(**kwargs):\n",
    "\n",
    "greeting = dict(한국어 = '안녕', 영어 = 'hi')\n",
    "print(greeting)"
   ]
  },
  {
   "cell_type": "code",
   "execution_count": 108,
   "metadata": {},
   "outputs": [
    {
     "name": "stdout",
     "output_type": "stream",
     "text": [
      "{'한국어': '안녕', '영어': 'hi'}\n"
     ]
    }
   ],
   "source": [
    "def fake_dict(**kwargs):\n",
    "    print(kwargs)\n",
    "fake_dict(한국어 = '안녕', 영어 = 'hi')"
   ]
  },
  {
   "cell_type": "code",
   "execution_count": 109,
   "metadata": {},
   "outputs": [
    {
     "name": "stdout",
     "output_type": "stream",
     "text": [
      "('안녕', 'hi')\n"
     ]
    }
   ],
   "source": [
    "def fake_dict(*args):\n",
    "    print(args)\n",
    "fake_dict('안녕', 'hi')"
   ]
  },
  {
   "cell_type": "code",
   "execution_count": 2,
   "metadata": {},
   "outputs": [
    {
     "name": "stdout",
     "output_type": "stream",
     "text": [
      "{'한국어': '안녕', '영어': 'hi', '독일어': 'Guten Tag'}\n",
      "{'한국어': '안녕', '영어': 'hi', '독일어': 'Guten Tag'}\n",
      "None\n"
     ]
    }
   ],
   "source": [
    "# 아래에 코드를 작성해주세요.\n",
    "def fake_dict(**kwargs):\n",
    "    result = {}\n",
    "    print(kwargs)\n",
    "    for key, value in kwargs.items():\n",
    "        result[key] = value # 이것이 이해가 안 돼!!!!!!!!!\n",
    "        \n",
    "    print(result)\n",
    "print(fake_dict(한국어='안녕', 영어='hi', 독일어='Guten Tag'))"
   ]
  },
  {
   "cell_type": "code",
   "execution_count": 7,
   "metadata": {},
   "outputs": [
    {
     "name": "stdout",
     "output_type": "stream",
     "text": [
      "2\n"
     ]
    }
   ],
   "source": [
    "test = {}\n",
    "test['apple'] = '사과' \n",
    "test['apple'] = '사과아'\n",
    "test\n",
    "\n",
    "a = 1\n",
    "a = 2\n",
    "print(a)"
   ]
  },
  {
   "cell_type": "code",
   "execution_count": 123,
   "metadata": {},
   "outputs": [
    {
     "data": {
      "text/plain": [
       "{'한국어': '안녕', '영어': 'hi'}"
      ]
     },
     "execution_count": 123,
     "metadata": {},
     "output_type": "execute_result"
    }
   ],
   "source": [
    "# 사실 dict()는 출력이 아니라 딕셔너리를 리턴한단다\n",
    "# 이게 무슨 말이냐면 원래 리턴했을 때 밑에서 인자를 정한 값이 아웃풋에 나오잖아!\n",
    "# 근데 지금 그 값이 딕셔너리 형태로 바꿔져서 나왔잖아!\n",
    "# 뭔 말인지 알지?\n",
    "def my_fake_dict(**kwargs):\n",
    "    return kwargs\n",
    "\n",
    "my_fake_dict(한국어 = '안녕', 영어 = 'hi')"
   ]
  },
  {
   "cell_type": "code",
   "execution_count": 129,
   "metadata": {},
   "outputs": [
    {
     "name": "stdout",
     "output_type": "stream",
     "text": [
      "subin님 가입되었습니다.\n",
      "비밀번호가 일치하지 않습니다.\n"
     ]
    }
   ],
   "source": [
    "# dictionary를 인자로 넘기기\n",
    "# **dict를 통해 함수에 인자를 넘길 수 있음\n",
    "\n",
    "\n",
    "def user(username, password, password_con):\n",
    "    if password == password_con:\n",
    "        return f'{username}님 가입되었습니다.'\n",
    "    else:\n",
    "        return '비밀번호가 일치하지 않습니다.'\n",
    "print(user('subin', 123123, 123123))\n",
    "print(user('subin', 123123, 1231234))"
   ]
  },
  {
   "cell_type": "code",
   "execution_count": 131,
   "metadata": {},
   "outputs": [
    {
     "ename": "TypeError",
     "evalue": "user() missing 2 required positional arguments: 'password' and 'password_con'",
     "output_type": "error",
     "traceback": [
      "\u001b[1;31m---------------------------------------------------------------------------\u001b[0m",
      "\u001b[1;31mTypeError\u001b[0m                                 Traceback (most recent call last)",
      "\u001b[1;32m<ipython-input-131-59a2f0cf140d>\u001b[0m in \u001b[0;36m<module>\u001b[1;34m\u001b[0m\n\u001b[0;32m      4\u001b[0m     \u001b[1;34m'password_con'\u001b[0m \u001b[1;33m:\u001b[0m \u001b[1;34m'12312345'\u001b[0m\u001b[1;33m\u001b[0m\u001b[1;33m\u001b[0m\u001b[0m\n\u001b[0;32m      5\u001b[0m }\n\u001b[1;32m----> 6\u001b[1;33m \u001b[0muser\u001b[0m\u001b[1;33m(\u001b[0m\u001b[0mmy_account\u001b[0m\u001b[1;33m)\u001b[0m\u001b[1;33m\u001b[0m\u001b[1;33m\u001b[0m\u001b[0m\n\u001b[0m",
      "\u001b[1;31mTypeError\u001b[0m: user() missing 2 required positional arguments: 'password' and 'password_con'"
     ]
    }
   ],
   "source": [
    "my_account = {\n",
    "    'username' : '최수빈',\n",
    "    'password' : '12312345',\n",
    "    'password_con' : '12312345'\n",
    "}\n",
    "user(my_account)\n",
    "\n",
    "# 딕셔너리 만들 때 제발 쉼표 좀,,,, 까먹지 마ㅠㅠ\n",
    "# 딕셔너리를 인자로 넣어줄 때 **를 안 넣으니까 딕셔너리의 첫번째 값만 들어가자낭\n",
    "# 밑에서 ** 표시해주자!! "
   ]
  },
  {
   "cell_type": "code",
   "execution_count": 132,
   "metadata": {},
   "outputs": [
    {
     "data": {
      "text/plain": [
       "'최수빈님 가입되었습니다.'"
      ]
     },
     "execution_count": 132,
     "metadata": {},
     "output_type": "execute_result"
    }
   ],
   "source": [
    "user(**my_account)"
   ]
  },
  {
   "cell_type": "code",
   "execution_count": 147,
   "metadata": {},
   "outputs": [
    {
     "data": {
      "text/plain": [
       "'http://blabla.co.kr.json?itemPerPage=10&key=abc&targetDt=yyyymmdd&'"
      ]
     },
     "execution_count": 147,
     "metadata": {},
     "output_type": "execute_result"
    }
   ],
   "source": [
    "## url 편하게 만들기\n",
    "\n",
    "def my_url(itemPerPage = 10, **kwargs):\n",
    "    base_url = 'http://blabla.co.kr.json?'\n",
    "    base_url = base_url + f'itemPerPage={itemPerPage}&'\n",
    "    \n",
    "    for key, value in kwargs.items():\n",
    "        base_url = base_url + f'{key}={value}&'\n",
    "        \n",
    "    return base_url\n",
    "\n",
    "my_url(key = 'abc', targetDt = 'yyyymmdd')\n"
   ]
  },
  {
   "cell_type": "code",
   "execution_count": 148,
   "metadata": {},
   "outputs": [
    {
     "name": "stdout",
     "output_type": "stream",
     "text": [
      "http://blabla.co.kr.json?itemPerPage=10&key=abc&targetDt=yyyymmdd&\n"
     ]
    }
   ],
   "source": [
    "api = {\n",
    "    'key': 'abc',\n",
    "    'targetDt': 'yyyymmdd'\n",
    "}\n",
    "print(my_url(**api))"
   ]
  },
  {
   "cell_type": "code",
   "execution_count": 149,
   "metadata": {},
   "outputs": [],
   "source": [
    "def my_url(itemPerPage = 10, **kwargs):\n",
    "    if itemPerPage not in range(1, 11):\n",
    "        return '1~10사이의 숫자를 입력하세요.'\n",
    "    if 'key' not in kwargs or 'targetDt' not in kwargs:\n",
    "        return '필수값 누락'\n",
    "    base_url = 'http://blabla.co.kr.json?'\n",
    "    base_url = base_url + f'itemPerPage={itemPerPage}&'\n",
    "    \n",
    "    for key, value in kwargs.items():\n",
    "        base_url = base_url + f'{key}={value}&'\n",
    "\n",
    "    return base_url"
   ]
  },
  {
   "cell_type": "code",
   "execution_count": null,
   "metadata": {},
   "outputs": [],
   "source": [
    "# 이름공간 및 스코프\n",
    "# local scope : 정의된 함수, 지역 변수\n",
    "# Enclosed scope : 상위 함수\n",
    "# Global scope : 함수 밖의 변수 혹은 import된 모듈, 전역 변수\n",
    "# Built-in scope : 파이썬 안에 내장되어 있는 함수 또는 속성\n",
    "# 범위가 작은 순서대로 적어보면\n",
    "# Local scope < Enclosing scope < Global scope < Built-in scope\n",
    "# 수명 주기가 짧은 순서대로 적어보면\n",
    "# Local scope < Enclosing scope < Global scope < Built-in scope\n",
    "# 변수에서 값을 찾는 순서대로 적어보면(범위 작은 것부터 차근차근 찾는다.)\n",
    "# Local scope < Enclosing scope < Global scope < Built-in scope"
   ]
  },
  {
   "cell_type": "code",
   "execution_count": 154,
   "metadata": {},
   "outputs": [
    {
     "ename": "TypeError",
     "evalue": "'str' object is not callable",
     "output_type": "error",
     "traceback": [
      "\u001b[1;31m---------------------------------------------------------------------------\u001b[0m",
      "\u001b[1;31mTypeError\u001b[0m                                 Traceback (most recent call last)",
      "\u001b[1;32m<ipython-input-154-2ab8c126c93a>\u001b[0m in \u001b[0;36m<module>\u001b[1;34m\u001b[0m\n\u001b[0;32m      1\u001b[0m \u001b[0mstr\u001b[0m \u001b[1;33m=\u001b[0m \u001b[1;34m'5'\u001b[0m\u001b[1;33m\u001b[0m\u001b[1;33m\u001b[0m\u001b[0m\n\u001b[1;32m----> 2\u001b[1;33m \u001b[0mstr\u001b[0m\u001b[1;33m(\u001b[0m\u001b[1;36m5\u001b[0m\u001b[1;33m)\u001b[0m\u001b[1;33m\u001b[0m\u001b[1;33m\u001b[0m\u001b[0m\n\u001b[0m\u001b[0;32m      3\u001b[0m \u001b[0mprint\u001b[0m\u001b[1;33m(\u001b[0m\u001b[0mstr\u001b[0m\u001b[1;33m)\u001b[0m\u001b[1;33m\u001b[0m\u001b[1;33m\u001b[0m\u001b[0m\n",
      "\u001b[1;31mTypeError\u001b[0m: 'str' object is not callable"
     ]
    }
   ],
   "source": [
    "str = '5'\n",
    "str(5)\n",
    "print(str)\n",
    "\n",
    "# 원래 str()은 built-in scope(내장함수) 이다. \n",
    "# 그런데 맨 첫 줄에서 str을 변수로 지정하고 5라는 수를 할당해줬다. \n",
    "# 변수는 Global scope이다.\n",
    "# 그랬더니 LEGB에 따라 변수로서의 역할을 먼저 하게되면서 원래의 str() 기능을 잃은 것이다."
   ]
  },
  {
   "cell_type": "code",
   "execution_count": 1,
   "metadata": {},
   "outputs": [
    {
     "name": "stdout",
     "output_type": "stream",
     "text": [
      "3\n"
     ]
    }
   ],
   "source": [
    "a = 1\n",
    "def localscope(a):\n",
    "    print(a)\n",
    "    \n",
    "localscope(3)\n",
    "\n",
    "# a = 1에서 a는 Global scope이고, localscope(a)는 정의된 함수이므로 후자가 먼저 실행됨"
   ]
  },
  {
   "cell_type": "code",
   "execution_count": 2,
   "metadata": {},
   "outputs": [
    {
     "name": "stdout",
     "output_type": "stream",
     "text": [
      "global_num이 5으로 바뀌었습니다.\n",
      "3\n"
     ]
    }
   ],
   "source": [
    "global_num = 3\n",
    "def localscope2():\n",
    "    global_num = 5\n",
    "    print(f'global_num이 {global_num}으로 바뀌었습니다.')\n",
    "    \n",
    "localscope2()\n",
    "print(global_num)\n",
    "\n",
    "# 전역 변수 = global scope, 지역 변수 = local scope"
   ]
  },
  {
   "cell_type": "code",
   "execution_count": null,
   "metadata": {},
   "outputs": [],
   "source": []
  },
  {
   "cell_type": "code",
   "execution_count": null,
   "metadata": {},
   "outputs": [],
   "source": []
  },
  {
   "cell_type": "code",
   "execution_count": null,
   "metadata": {},
   "outputs": [],
   "source": []
  },
  {
   "cell_type": "code",
   "execution_count": 7,
   "metadata": {},
   "outputs": [
    {
     "name": "stdout",
     "output_type": "stream",
     "text": [
      "3\n",
      "###"
     ]
    }
   ],
   "source": [
    "number = int(input())\n",
    "for num in range(number):\n",
    "    print('#', end=\"\")"
   ]
  }
 ],
 "metadata": {
  "kernelspec": {
   "display_name": "Python 3",
   "language": "python",
   "name": "python3"
  },
  "language_info": {
   "codemirror_mode": {
    "name": "ipython",
    "version": 3
   },
   "file_extension": ".py",
   "mimetype": "text/x-python",
   "name": "python",
   "nbconvert_exporter": "python",
   "pygments_lexer": "ipython3",
   "version": "3.7.3"
  }
 },
 "nbformat": 4,
 "nbformat_minor": 2
}
