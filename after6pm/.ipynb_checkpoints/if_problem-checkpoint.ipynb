{
 "cells": [
  {
   "cell_type": "markdown",
   "metadata": {},
   "source": [
    "# 2753번"
   ]
  },
  {
   "cell_type": "code",
   "execution_count": null,
   "metadata": {},
   "outputs": [],
   "source": [
    "year = int(input())\n",
    "# 4의 배수일 때\n",
    "# 100의 배수가 아닐 때\n",
    "# 400의 배수일 때\n",
    "if year % 4 == 0:\n",
    "    if year % 400 == 0:\n",
    "        print(\"1\")\n",
    "    elif year % 100 == 0:\n",
    "        print(\"0\")\n",
    "    else:\n",
    "        print(\"1\")\n",
    "else:\n",
    "    print(\"0\")"
   ]
  },
  {
   "cell_type": "code",
   "execution_count": null,
   "metadata": {},
   "outputs": [],
   "source": [
    "year = int(input())\n",
    "# 4의 배수일 때\n",
    "if year % 4 == 0:\n",
    "    if year % 100 != 0:\n",
    "        print(1)\n",
    "    if year % 400 == 0:\n",
    "        print(1)\n",
    "    else:\n",
    "        print(0)\n",
    "# 4의 배수가 아닐 때   \n",
    "else:\n",
    "    print(0)"
   ]
  },
  {
   "cell_type": "markdown",
   "metadata": {},
   "source": [
    "# 10817번"
   ]
  },
  {
   "cell_type": "code",
   "execution_count": null,
   "metadata": {},
   "outputs": [],
   "source": [
    "inputs = input()\n",
    "numbers = list(map(int, inputs.split()))\n",
    "\n",
    "for number in numbers:\n",
    "    # 10 20 30 -> 20\n",
    "    if number != max(numbers) and number != min(numbers):\n",
    "        print(number)\n",
    "    # 10 30 30 -> 30\n",
    "    if max(numbers) \n",
    "    # 40 40 40 -> 40\n",
    "    if max(numbers) == min(numbers):\n",
    "        print(number)\n",
    "        break\n",
    "    # 20 10 10 -> 10"
   ]
  },
  {
   "cell_type": "code",
   "execution_count": null,
   "metadata": {},
   "outputs": [],
   "source": [
    "numbers = input()\n",
    "\n",
    "number = list(map(int, numbers.split('')))\n",
    "\n",
    "maximum = max(number)\n",
    "minimum = min(number)\n",
    "\n",
    "number.remove(maximum)\n",
    "number.remove(minimum)\n",
    "print(number[0])"
   ]
  },
  {
   "cell_type": "code",
   "execution_count": 11,
   "metadata": {},
   "outputs": [
    {
     "name": "stdout",
     "output_type": "stream",
     "text": [
      "10\n",
      "-1\n",
      "0\n",
      "1\n",
      "2\n",
      "3\n",
      "4\n",
      "5\n",
      "6\n",
      "7\n",
      "8\n"
     ]
    }
   ],
   "source": [
    "num = int(input())\n",
    "\n",
    "for n in range(num):\n",
    "    print(n)\n",
    "    "
   ]
  },
  {
   "cell_type": "code",
   "execution_count": null,
   "metadata": {},
   "outputs": [],
   "source": []
  }
 ],
 "metadata": {
  "kernelspec": {
   "display_name": "Python 3",
   "language": "python",
   "name": "python3"
  },
  "language_info": {
   "codemirror_mode": {
    "name": "ipython",
    "version": 3
   },
   "file_extension": ".py",
   "mimetype": "text/x-python",
   "name": "python",
   "nbconvert_exporter": "python",
   "pygments_lexer": "ipython3",
   "version": "3.7.3"
  }
 },
 "nbformat": 4,
 "nbformat_minor": 2
}
