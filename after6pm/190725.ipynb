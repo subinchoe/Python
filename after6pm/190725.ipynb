{
 "cells": [
  {
   "cell_type": "markdown",
   "metadata": {},
   "source": [
    "# 2557번"
   ]
  },
  {
   "cell_type": "code",
   "execution_count": null,
   "metadata": {},
   "outputs": [],
   "source": [
    "print('Hello World!')"
   ]
  },
  {
   "cell_type": "markdown",
   "metadata": {},
   "source": [
    "# 10718번"
   ]
  },
  {
   "cell_type": "code",
   "execution_count": null,
   "metadata": {},
   "outputs": [],
   "source": [
    "print('강한친구 대한육군\\n강한친구 대한육군')"
   ]
  },
  {
   "cell_type": "markdown",
   "metadata": {},
   "source": [
    "# 10171번"
   ]
  },
  {
   "cell_type": "code",
   "execution_count": null,
   "metadata": {},
   "outputs": [],
   "source": [
    "print(\"\\    /\\ \\n )  ( ')\\n(  /  ) \\n \\(__) |\")"
   ]
  },
  {
   "cell_type": "code",
   "execution_count": null,
   "metadata": {},
   "outputs": [],
   "source": [
    "cat = r\"\"\"\\    /\\\n",
    " )  ( ')\n",
    "(  /  )\n",
    " \\(__)|\n",
    "\"\"\"     \n",
    "\n",
    "print(cat)"
   ]
  },
  {
   "cell_type": "markdown",
   "metadata": {},
   "source": [
    "# 1000번"
   ]
  },
  {
   "cell_type": "code",
   "execution_count": null,
   "metadata": {},
   "outputs": [],
   "source": [
    "numbers = input()\n",
    "inputs = list(map(int, numbers.split()))\n",
    "\n",
    "# total = inputs[0] + inputs[1] 딱 2개 있을 때만!!!\n",
    "\n",
    "# total = sum(inputs)\n",
    "\n",
    "total = 0      # 이렇게 푸는 게 아주 좋겠다!\n",
    "for i in inputs:\n",
    "    total += i\n",
    "    \n",
    "print(total)"
   ]
  },
  {
   "cell_type": "markdown",
   "metadata": {},
   "source": [
    "# 10869번   못 풂.."
   ]
  },
  {
   "cell_type": "code",
   "execution_count": 11,
   "metadata": {},
   "outputs": [
    {
     "name": "stdout",
     "output_type": "stream",
     "text": [
      "7 3\n",
      "10\n",
      "-4\n",
      "0\n",
      "0\n",
      "0.0\n"
     ]
    }
   ],
   "source": [
    "numbers = input()\n",
    "inputs = list(map(int, numbers.split()))\n",
    "\n",
    "# add = 0\n",
    "# for a in inputs:\n",
    "#     add = a + add\n",
    "# print(add)\n",
    "\n",
    "# sub = 0\n",
    "# for s in inputs:\n",
    "#     sub = s - sub\n",
    "# print(sub)\n",
    "\n",
    "# mul = 0\n",
    "# for m in inputs:\n",
    "#     mul = m * mul\n",
    "# print(mul)\n",
    "\n",
    "# div = 0\n",
    "# for d in inputs:\n",
    "#     div /= d\n",
    "# print(div)\n",
    "\n",
    "total = 0\n",
    "for i in inputs:\n",
    "    total += i\n",
    "print(total)\n",
    "\n",
    "minus\n",
    "\n"
   ]
  },
  {
   "cell_type": "code",
   "execution_count": null,
   "metadata": {},
   "outputs": [],
   "source": [
    "numbers = input()\n",
    "inputs = list(map(int, numbers.split()))\n",
    "\n",
    "def add(a, b):\n",
    "    return a + b\n",
    "\n",
    "# def sub(a, b):\n",
    "#     return a - b\n",
    "\n",
    "# def mul(a, b):\n"
   ]
  },
  {
   "cell_type": "markdown",
   "metadata": {},
   "source": [
    "# 2588번 이것도 못풂......"
   ]
  },
  {
   "cell_type": "code",
   "execution_count": 26,
   "metadata": {},
   "outputs": [
    {
     "name": "stdout",
     "output_type": "stream",
     "text": [
      "123\n",
      "456\n"
     ]
    },
    {
     "ename": "IndexError",
     "evalue": "list index out of range",
     "output_type": "error",
     "traceback": [
      "\u001b[1;31m---------------------------------------------------------------------------\u001b[0m",
      "\u001b[1;31mIndexError\u001b[0m                                Traceback (most recent call last)",
      "\u001b[1;32m<ipython-input-26-96966fbd2e61>\u001b[0m in \u001b[0;36m<module>\u001b[1;34m\u001b[0m\n\u001b[0;32m      5\u001b[0m \u001b[1;33m\u001b[0m\u001b[0m\n\u001b[0;32m      6\u001b[0m \u001b[1;31m# for i in inputs1[:-1]:\u001b[0m\u001b[1;33m\u001b[0m\u001b[1;33m\u001b[0m\u001b[1;33m\u001b[0m\u001b[0m\n\u001b[1;32m----> 7\u001b[1;33m \u001b[0mprint\u001b[0m\u001b[1;33m(\u001b[0m\u001b[0minputs1\u001b[0m \u001b[1;33m*\u001b[0m \u001b[0minputs2\u001b[0m\u001b[1;33m[\u001b[0m\u001b[1;36m2\u001b[0m\u001b[1;33m]\u001b[0m\u001b[1;33m)\u001b[0m\u001b[1;33m\u001b[0m\u001b[1;33m\u001b[0m\u001b[0m\n\u001b[0m\u001b[0;32m      8\u001b[0m \u001b[1;31m# inputs1 * (inputs2[1] * 10)\u001b[0m\u001b[1;33m\u001b[0m\u001b[1;33m\u001b[0m\u001b[1;33m\u001b[0m\u001b[0m\n\u001b[0;32m      9\u001b[0m \u001b[1;31m# inputs1 * (inputs2[0] * 100)\u001b[0m\u001b[1;33m\u001b[0m\u001b[1;33m\u001b[0m\u001b[1;33m\u001b[0m\u001b[0m\n",
      "\u001b[1;31mIndexError\u001b[0m: list index out of range"
     ]
    }
   ],
   "source": [
    "input1 = input() # 472\n",
    "input2 = input() # 385\n",
    "inputs1 = list(map(int, input1.split()))\n",
    "inputs2 = list(map(int, input2.split()))\n",
    "\n",
    "# for i in inputs1[:-1]:\n",
    "print(inputs1 * inputs2[2])\n",
    "# inputs1 * (inputs2[1] * 10)\n",
    "# inputs1 * (inputs2[0] * 100)\n",
    "#     print(i)\n",
    "\n",
    "# total\n",
    "\n",
    "# print(inputs1)\n",
    "# print(inputs2)"
   ]
  },
  {
   "cell_type": "code",
   "execution_count": 41,
   "metadata": {},
   "outputs": [
    {
     "name": "stdout",
     "output_type": "stream",
     "text": [
      "472\n",
      "385\n",
      "2360\n",
      "3776\n",
      "1416\n",
      "181720\n"
     ]
    }
   ],
   "source": [
    "input1 = input() # 472\n",
    "input2 = input() # 385\n",
    "\n",
    "print(int(input1) * int(input2[2]))\n",
    "print(int(input1) * int(input2[1]))\n",
    "print(int(input1) * int(input2[0]))\n",
    "print(int(input1) * int(input2))"
   ]
  },
  {
   "cell_type": "code",
   "execution_count": null,
   "metadata": {},
   "outputs": [],
   "source": []
  }
 ],
 "metadata": {
  "kernelspec": {
   "display_name": "Python 3",
   "language": "python",
   "name": "python3"
  },
  "language_info": {
   "codemirror_mode": {
    "name": "ipython",
    "version": 3
   },
   "file_extension": ".py",
   "mimetype": "text/x-python",
   "name": "python",
   "nbconvert_exporter": "python",
   "pygments_lexer": "ipython3",
   "version": "3.7.3"
  }
 },
 "nbformat": 4,
 "nbformat_minor": 2
}
